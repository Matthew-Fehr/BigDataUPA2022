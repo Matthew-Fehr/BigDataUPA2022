{
  "cells": [
    {
      "cell_type": "markdown",
      "metadata": {
        "id": "h_kclF3wZPnr"
      },
      "source": [
        "# Trabajo Final Big Data\n",
        "Elaborado por Matthew Fehr"
      ]
    },
    {
      "cell_type": "markdown",
      "metadata": {
        "id": "ZJukq9WoOi5u"
      },
      "source": [
        "## Componente 1: Data Fetching\n",
        "Las redes sociales son una fuente masiva de información que puede ser muy útil para las\n",
        "empresas, en particular para el afán de mejorar las interacciones con clientes actuales y\n",
        "potenciales o para evaluar la imagen de la marca. Por este motivo, resultan un ejemplo claro de\n",
        "big data con aplicabilidad directa al mundo empresarial.\n",
        "Como paso inicial del proyecto de big data, el alumno escribir un script que permita obtener una\n",
        "lista de las últimas menciones de un handle o hashtag en Twitter a través de su API. Este\n",
        "programa en Python deberá luego guardar los tweets en un archivo .csv para su posterior\n",
        "análisis.\n",
        "El archivo de salida deberá contener mínimamente:\n",
        "* Texto del tweet\n",
        "* Autor\n",
        "* Timestamp\n",
        "* Número de Favs\n",
        "* Número de RTs"
      ]
    },
    {
      "cell_type": "markdown",
      "metadata": {
        "id": "LEA2ZR1sOi55"
      },
      "source": [
        "### Importar las librerias necesarias"
      ]
    },
    {
      "cell_type": "code",
      "execution_count": 2,
      "metadata": {},
      "outputs": [],
      "source": [
        "#importamos librerias\n",
        "import tweepy\n",
        "from textblob import TextBlob\n",
        "import pandas as pd\n",
        "import numpy as np\n",
        "import re\n",
        "import matplotlib.pyplot as plt\n",
        "plt.style.use('fivethirtyeight')\n",
        "\n",
        "from nltk.sentiment.vader import SentimentIntensityAnalyzer\n",
        "from nltk.sentiment.vader import SentimentIntensityAnalyzer"
      ]
    },
    {
      "cell_type": "markdown",
      "metadata": {},
      "source": [
        "### Preparar el API de Twitter con los datos de autenticación"
      ]
    },
    {
      "cell_type": "code",
      "execution_count": 3,
      "metadata": {
        "colab": {
          "base_uri": "https://localhost:8080/",
          "height": 72,
          "resources": {
            "http://localhost:8080/nbextensions/google.colab/files.js": {
              "data": "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",
              "headers": [
                [
                  "content-type",
                  "application/javascript"
                ]
              ],
              "ok": true,
              "status": 200,
              "status_text": ""
            }
          }
        },
        "id": "R-RYo-iZ-qwp",
        "outputId": "56a8c86c-b0be-49e2-837b-1abcc2a0606a"
      },
      "outputs": [],
      "source": [
        "#Buscar las llaves de autenticación de Twitter API en un archivo .csv en el entorno local\n",
        "log = pd.read_csv(\"twitter_api_log.csv\", sep=',')"
      ]
    },
    {
      "cell_type": "code",
      "execution_count": null,
      "metadata": {},
      "outputs": [],
      "source": [
        "## Upload to Drive\n",
        "##Descomentar en caso de usar Google Colab\n",
        "#import io\n",
        "#from google.colab import files\n",
        "#uploaded = files.upload()"
      ]
    },
    {
      "cell_type": "code",
      "execution_count": null,
      "metadata": {},
      "outputs": [],
      "source": [
        "##Parte 2 del Google Colab: para convertir a dataframe el archivo que subimos a memoria\n",
        "#log = pd.read_csv(io.BytesIO(uploaded['analisis.csv']))    #descomentar"
      ]
    },
    {
      "cell_type": "code",
      "execution_count": 4,
      "metadata": {},
      "outputs": [
        {
          "data": {
            "text/html": [
              "<div>\n",
              "<style scoped>\n",
              "    .dataframe tbody tr th:only-of-type {\n",
              "        vertical-align: middle;\n",
              "    }\n",
              "\n",
              "    .dataframe tbody tr th {\n",
              "        vertical-align: top;\n",
              "    }\n",
              "\n",
              "    .dataframe thead th {\n",
              "        text-align: right;\n",
              "    }\n",
              "</style>\n",
              "<table border=\"1\" class=\"dataframe\">\n",
              "  <thead>\n",
              "    <tr style=\"text-align: right;\">\n",
              "      <th></th>\n",
              "      <th>key</th>\n",
              "      <th>value</th>\n",
              "    </tr>\n",
              "  </thead>\n",
              "  <tbody>\n",
              "    <tr>\n",
              "      <th>0</th>\n",
              "      <td>API Key</td>\n",
              "      <td>e27sd02R39EIsSHfrTUCiOwXT</td>\n",
              "    </tr>\n",
              "    <tr>\n",
              "      <th>1</th>\n",
              "      <td>API Key Secret</td>\n",
              "      <td>X0K7qJC7lZ9An1NXWJ3yYijOp4tAFPWcd3OjcBP15djPe9...</td>\n",
              "    </tr>\n",
              "    <tr>\n",
              "      <th>2</th>\n",
              "      <td>Access Token</td>\n",
              "      <td>175984347-MCv5cbRKRBxXOFKDUfsQVtGhuPy42aRDn53U...</td>\n",
              "    </tr>\n",
              "    <tr>\n",
              "      <th>3</th>\n",
              "      <td>Access Token Secret</td>\n",
              "      <td>XMEe25XGwoeozruLf9Y1zK5wYlTup9U0xLHLG4BT3JffE</td>\n",
              "    </tr>\n",
              "  </tbody>\n",
              "</table>\n",
              "</div>"
            ],
            "text/plain": [
              "                   key                                              value\n",
              "0              API Key                          e27sd02R39EIsSHfrTUCiOwXT\n",
              "1       API Key Secret  X0K7qJC7lZ9An1NXWJ3yYijOp4tAFPWcd3OjcBP15djPe9...\n",
              "2         Access Token  175984347-MCv5cbRKRBxXOFKDUfsQVtGhuPy42aRDn53U...\n",
              "3  Access Token Secret      XMEe25XGwoeozruLf9Y1zK5wYlTup9U0xLHLG4BT3JffE"
            ]
          },
          "execution_count": 4,
          "metadata": {},
          "output_type": "execute_result"
        }
      ],
      "source": [
        "#Revisar los datos\n",
        "log.head()"
      ]
    },
    {
      "cell_type": "code",
      "execution_count": 5,
      "metadata": {
        "id": "5dB7DbMM_Ht8"
      },
      "outputs": [],
      "source": [
        "# Asignar los Twitter Api Credentials del CSV a variables\n",
        "consumerKey = log[\"value\"][0]\n",
        "consumerSecret = log[\"value\"][1]\n",
        "accessToken = log[\"value\"][2]\n",
        "accessTokenSecret = log[\"value\"][3]"
      ]
    },
    {
      "cell_type": "code",
      "execution_count": 6,
      "metadata": {
        "id": "cFDtKhaR_X1K"
      },
      "outputs": [],
      "source": [
        "#creamos un objeto de autenticacion\n",
        "authenticate = tweepy.OAuthHandler(consumerKey, consumerSecret) \n",
        "    \n",
        "# Seteamos el access token y access token secret\n",
        "authenticate.set_access_token(accessToken, accessTokenSecret) \n",
        "\n",
        "#Creamos el objeto API mientras parseamos la informacion en auth  \n",
        "api = tweepy.API(authenticate, wait_on_rate_limit = True)"
      ]
    },
    {
      "cell_type": "markdown",
      "metadata": {},
      "source": [
        "### Extraer los tweets deseados de Twitter"
      ]
    },
    {
      "cell_type": "code",
      "execution_count": 7,
      "metadata": {},
      "outputs": [
        {
          "name": "stdout",
          "output_type": "stream",
          "text": [
            "Los 5 tweets más recientes:\n",
            "\n",
            "1) Good morning. Makes my day to see a #Tesla first thing. #Tokyo #Japan #東京 #日本 https://t.co/uzzKTfI3kj\n",
            "\n",
            "2) #Tesla #TSLA #TechnicalIndicator Market Types (MT) \n",
            "-0.9982 | Extreme Fear \n",
            "\n",
            "View interactive details: \n",
            "https://t.co/TYaiR9u6EX \n",
            "\n",
            "@ioBotsPro @ReiSoleil https://t.co/nSgrCKA5U6\n",
            "\n",
            "3) $TSLA winnings of initial #BTC investment🙌\n",
            "\n",
            "$-559112143 (-41.42 %) (Realized: 272 M)\n",
            "(Estimating an average buy price of $35000/BTC with now 38,700 BTC holdings $BTCUSD)\n",
            "#Tesla #Bitcoin #crypto\n",
            "\n",
            "4) @itskyleconner @BjornNyland This has happened **Never** at each and every #Tesla supercharger for all my road trips since 2018.  I've seen a few examples in the news of vandalized and cut cords but that isn't Tesla's fault.\n",
            "\n",
            "5) RT @TeslaDiva99: So let’s talk Charging for our Great American Adventure 🇺🇸 if we would have taken my husband’s vehicle it would of cost be…\n",
            "\n"
          ]
        }
      ],
      "source": [
        "# Extraemos los 300 tweets mas recientes de #Tesla\n",
        "tweets_list = api.search_tweets(q=\"#Tesla\", tweet_mode='extended', lang='en', result_type='recent', count=300)\n",
        "\n",
        "#  Imprimimos los 5 ultimos tweets\n",
        "print(\"Los 5 tweets más recientes:\\n\")\n",
        "i=1\n",
        "for tweet in tweets_list[:5]:\n",
        "    print(str(i) +') '+ tweet.full_text + '\\n')\n",
        "    i= i+1"
      ]
    },
    {
      "cell_type": "code",
      "execution_count": 8,
      "metadata": {},
      "outputs": [],
      "source": [
        "# Funcion para sacar la informacion deseada del JSON en un formato limpio\n",
        "output = []\n",
        "for tweet in tweets_list:\n",
        "    text = tweet._json[\"full_text\"]\n",
        "    name_author = tweet.user.name\n",
        "    tag_author = '@'+tweet.user.screen_name\n",
        "    favourite_count = tweet.favorite_count\n",
        "    retweet_count = tweet.retweet_count\n",
        "    created_at = tweet.created_at\n",
        "    \n",
        "    line = {'tweet'            :text, \n",
        "            'name_author'      :name_author, \n",
        "            'user_tag'         :tag_author, \n",
        "            'favourite_count'  :favourite_count, \n",
        "            'retweet_count'    :retweet_count, \n",
        "            'created_at'       :created_at}\n",
        "            \n",
        "    output.append(line)"
      ]
    },
    {
      "cell_type": "code",
      "execution_count": 9,
      "metadata": {},
      "outputs": [],
      "source": [
        "#Convertir la informacion sacada en un DataFrame y guardarlo como un .csv\n",
        "data = pd.DataFrame(output)\n",
        "data.to_csv('tweets_crudos.csv')"
      ]
    },
    {
      "cell_type": "markdown",
      "metadata": {},
      "source": [
        "### Importamos de nuevo el CSV recién creado para verificar el contenido"
      ]
    },
    {
      "cell_type": "code",
      "execution_count": null,
      "metadata": {},
      "outputs": [],
      "source": [
        "## Upload to Drive\n",
        "##Descomentar en caso de usar Google Colab\n",
        "#import io\n",
        "#from google.colab import files\n",
        "#uploaded = files.upload()"
      ]
    },
    {
      "cell_type": "code",
      "execution_count": null,
      "metadata": {},
      "outputs": [],
      "source": [
        "##Parte 2 del Google Colab: para convertir a dataframe el archivo que subimos a memoria\n",
        "#log = pd.read_csv(io.BytesIO(uploaded['analisis.csv']))    #descomentar"
      ]
    },
    {
      "cell_type": "code",
      "execution_count": 64,
      "metadata": {},
      "outputs": [],
      "source": [
        "#Buscamos el .csv del entorno local y dejamos la primera columna de indice\n",
        "data = pd.read_csv(\"tweets_crudos.csv\", sep=',').drop(columns='Unnamed: 0')"
      ]
    },
    {
      "cell_type": "code",
      "execution_count": 31,
      "metadata": {},
      "outputs": [
        {
          "data": {
            "text/html": [
              "<div>\n",
              "<style scoped>\n",
              "    .dataframe tbody tr th:only-of-type {\n",
              "        vertical-align: middle;\n",
              "    }\n",
              "\n",
              "    .dataframe tbody tr th {\n",
              "        vertical-align: top;\n",
              "    }\n",
              "\n",
              "    .dataframe thead th {\n",
              "        text-align: right;\n",
              "    }\n",
              "</style>\n",
              "<table border=\"1\" class=\"dataframe\">\n",
              "  <thead>\n",
              "    <tr style=\"text-align: right;\">\n",
              "      <th></th>\n",
              "      <th>tweet</th>\n",
              "      <th>name_author</th>\n",
              "      <th>user_tag</th>\n",
              "      <th>favourite_count</th>\n",
              "      <th>retweet_count</th>\n",
              "      <th>created_at</th>\n",
              "    </tr>\n",
              "  </thead>\n",
              "  <tbody>\n",
              "    <tr>\n",
              "      <th>0</th>\n",
              "      <td>Good morning. Makes my day to see a #Tesla fir...</td>\n",
              "      <td>Terry Cormier</td>\n",
              "      <td>@DCStars</td>\n",
              "      <td>0</td>\n",
              "      <td>0</td>\n",
              "      <td>2022-06-21 02:33:16+00:00</td>\n",
              "    </tr>\n",
              "    <tr>\n",
              "      <th>1</th>\n",
              "      <td>#Tesla #TSLA #TechnicalIndicator Market Types ...</td>\n",
              "      <td>ioBots Alerts</td>\n",
              "      <td>@IOB_llc</td>\n",
              "      <td>0</td>\n",
              "      <td>0</td>\n",
              "      <td>2022-06-21 02:30:11+00:00</td>\n",
              "    </tr>\n",
              "    <tr>\n",
              "      <th>2</th>\n",
              "      <td>$TSLA winnings of initial #BTC investment🙌\\n\\n...</td>\n",
              "      <td>MBrae</td>\n",
              "      <td>@MBrae3</td>\n",
              "      <td>0</td>\n",
              "      <td>0</td>\n",
              "      <td>2022-06-21 02:30:05+00:00</td>\n",
              "    </tr>\n",
              "    <tr>\n",
              "      <th>3</th>\n",
              "      <td>@itskyleconner @BjornNyland This has happened ...</td>\n",
              "      <td>Lawrence 4.68e+3 🔋</td>\n",
              "      <td>@Avatrode</td>\n",
              "      <td>1</td>\n",
              "      <td>0</td>\n",
              "      <td>2022-06-21 02:26:28+00:00</td>\n",
              "    </tr>\n",
              "    <tr>\n",
              "      <th>4</th>\n",
              "      <td>RT @TeslaDiva99: So let’s talk Charging for ou...</td>\n",
              "      <td>The Mortika Lacrosse (Kai)</td>\n",
              "      <td>@mortikalacrosse</td>\n",
              "      <td>0</td>\n",
              "      <td>2</td>\n",
              "      <td>2022-06-21 02:24:29+00:00</td>\n",
              "    </tr>\n",
              "    <tr>\n",
              "      <th>...</th>\n",
              "      <td>...</td>\n",
              "      <td>...</td>\n",
              "      <td>...</td>\n",
              "      <td>...</td>\n",
              "      <td>...</td>\n",
              "      <td>...</td>\n",
              "    </tr>\n",
              "    <tr>\n",
              "      <th>95</th>\n",
              "      <td>Coolio! JamesSpanko just spotted a 2018 Tesla ...</td>\n",
              "      <td>TeslaRadar Bot</td>\n",
              "      <td>@TeslaradarB</td>\n",
              "      <td>1</td>\n",
              "      <td>0</td>\n",
              "      <td>2022-06-21 01:12:15+00:00</td>\n",
              "    </tr>\n",
              "    <tr>\n",
              "      <th>96</th>\n",
              "      <td>Well done! JamesSpanko nailed it by spotting a...</td>\n",
              "      <td>TeslaRadar Bot</td>\n",
              "      <td>@TeslaradarB</td>\n",
              "      <td>1</td>\n",
              "      <td>0</td>\n",
              "      <td>2022-06-21 01:12:14+00:00</td>\n",
              "    </tr>\n",
              "    <tr>\n",
              "      <th>97</th>\n",
              "      <td>Fresh! JamesSpanko just spotted a 2020 Tesla M...</td>\n",
              "      <td>TeslaRadar Bot</td>\n",
              "      <td>@TeslaradarB</td>\n",
              "      <td>1</td>\n",
              "      <td>0</td>\n",
              "      <td>2022-06-21 01:12:14+00:00</td>\n",
              "    </tr>\n",
              "    <tr>\n",
              "      <th>98</th>\n",
              "      <td>Nice! JamesSpanko just spotted a 2021 Tesla Mo...</td>\n",
              "      <td>TeslaRadar Bot</td>\n",
              "      <td>@TeslaradarB</td>\n",
              "      <td>1</td>\n",
              "      <td>0</td>\n",
              "      <td>2022-06-21 01:12:14+00:00</td>\n",
              "    </tr>\n",
              "    <tr>\n",
              "      <th>99</th>\n",
              "      <td>Very nice! JamesSpanko just spotted a 2021 Tes...</td>\n",
              "      <td>TeslaRadar Bot</td>\n",
              "      <td>@TeslaradarB</td>\n",
              "      <td>0</td>\n",
              "      <td>0</td>\n",
              "      <td>2022-06-21 01:12:14+00:00</td>\n",
              "    </tr>\n",
              "  </tbody>\n",
              "</table>\n",
              "<p>100 rows × 6 columns</p>\n",
              "</div>"
            ],
            "text/plain": [
              "                                                tweet  \\\n",
              "0   Good morning. Makes my day to see a #Tesla fir...   \n",
              "1   #Tesla #TSLA #TechnicalIndicator Market Types ...   \n",
              "2   $TSLA winnings of initial #BTC investment🙌\\n\\n...   \n",
              "3   @itskyleconner @BjornNyland This has happened ...   \n",
              "4   RT @TeslaDiva99: So let’s talk Charging for ou...   \n",
              "..                                                ...   \n",
              "95  Coolio! JamesSpanko just spotted a 2018 Tesla ...   \n",
              "96  Well done! JamesSpanko nailed it by spotting a...   \n",
              "97  Fresh! JamesSpanko just spotted a 2020 Tesla M...   \n",
              "98  Nice! JamesSpanko just spotted a 2021 Tesla Mo...   \n",
              "99  Very nice! JamesSpanko just spotted a 2021 Tes...   \n",
              "\n",
              "                   name_author          user_tag  favourite_count  \\\n",
              "0                Terry Cormier          @DCStars                0   \n",
              "1                ioBots Alerts          @IOB_llc                0   \n",
              "2                        MBrae           @MBrae3                0   \n",
              "3           Lawrence 4.68e+3 🔋         @Avatrode                1   \n",
              "4   The Mortika Lacrosse (Kai)  @mortikalacrosse                0   \n",
              "..                         ...               ...              ...   \n",
              "95              TeslaRadar Bot      @TeslaradarB                1   \n",
              "96              TeslaRadar Bot      @TeslaradarB                1   \n",
              "97              TeslaRadar Bot      @TeslaradarB                1   \n",
              "98              TeslaRadar Bot      @TeslaradarB                1   \n",
              "99              TeslaRadar Bot      @TeslaradarB                0   \n",
              "\n",
              "    retweet_count                 created_at  \n",
              "0               0  2022-06-21 02:33:16+00:00  \n",
              "1               0  2022-06-21 02:30:11+00:00  \n",
              "2               0  2022-06-21 02:30:05+00:00  \n",
              "3               0  2022-06-21 02:26:28+00:00  \n",
              "4               2  2022-06-21 02:24:29+00:00  \n",
              "..            ...                        ...  \n",
              "95              0  2022-06-21 01:12:15+00:00  \n",
              "96              0  2022-06-21 01:12:14+00:00  \n",
              "97              0  2022-06-21 01:12:14+00:00  \n",
              "98              0  2022-06-21 01:12:14+00:00  \n",
              "99              0  2022-06-21 01:12:14+00:00  \n",
              "\n",
              "[100 rows x 6 columns]"
            ]
          },
          "execution_count": 31,
          "metadata": {},
          "output_type": "execute_result"
        }
      ],
      "source": [
        "data"
      ]
    },
    {
      "cell_type": "markdown",
      "metadata": {
        "id": "ZJukq9WoOi5u"
      },
      "source": [
        "## Componente 2: Data Analysis\n",
        "La siguiente fase del trabajo práctico final de big data consiste en analizar los tweets\n",
        "descargados como parte del componente 1. Para ello, se hará uso de los conocimientos\n",
        "adquiridos sobre scraping y data mining en python, además de herramientas de análisis de\n",
        "sentimiento en la nube.\n",
        "El alumno deberá crear un script en Python que calcule el sentimiento de cada tweet y\n",
        "almacene los resultados en un archivo .csv. Además, se deberá calcular el sentimiento\n",
        "promedio relacionado a las menciones.\n",
        "Tanto como en el código fuente como en el README se debe aclarar qué algoritmo de Analisis\n",
        "de sentimientos se utilizó, y por qué. Además de explicar los pasos del preprocesamiento\n",
        "realizado a la base.\n",
        "Como entregable de este componente se espera un repositorio github con:\n",
        "* Código fuente\n",
        "* README.md con instrucciones de instalación y uso del script\n",
        "* Dataset en formato .csv"
      ]
    },
    {
      "cell_type": "markdown",
      "metadata": {
        "id": "5RNJrh58Oi6F"
      },
      "source": [
        "### Paso 1: Limpieza de datos"
      ]
    },
    {
      "cell_type": "code",
      "execution_count": 44,
      "metadata": {},
      "outputs": [],
      "source": [
        "#creamos la funcion para limpiar los tweets\n",
        "\n",
        "def cleanTxt(text):\n",
        "    text = re.sub('https?:\\/\\/\\S+', '', text)  # Sacando los hipervinculos\n",
        "    text = re.sub('_', '', text)               # Sacando los '_'\n",
        "    text = re.sub('RT[\\s]+', '', text)         # Sacando los RT retweets\n",
        "    text = re.sub('@[A-Za-z0-99]+', '', text)  # Sacando las '@' menciones\n",
        "    text = re.sub(\"[%#:.,;!?’*$()-]\", '', text)      # Sacando los '#' ':' ',' ';'\n",
        "    text = re.sub('[0-9]', '', text)           # Sacando los números\n",
        "    text = re.sub('\\n', ' ', text)             # Sacando los '\\n' enters\n",
        "    text = text.lower()\n",
        " \n",
        "    return text\n"
      ]
    },
    {
      "cell_type": "code",
      "execution_count": 65,
      "metadata": {},
      "outputs": [
        {
          "data": {
            "text/html": [
              "<div>\n",
              "<style scoped>\n",
              "    .dataframe tbody tr th:only-of-type {\n",
              "        vertical-align: middle;\n",
              "    }\n",
              "\n",
              "    .dataframe tbody tr th {\n",
              "        vertical-align: top;\n",
              "    }\n",
              "\n",
              "    .dataframe thead th {\n",
              "        text-align: right;\n",
              "    }\n",
              "</style>\n",
              "<table border=\"1\" class=\"dataframe\">\n",
              "  <thead>\n",
              "    <tr style=\"text-align: right;\">\n",
              "      <th></th>\n",
              "      <th>tweet</th>\n",
              "      <th>name_author</th>\n",
              "      <th>user_tag</th>\n",
              "      <th>favourite_count</th>\n",
              "      <th>retweet_count</th>\n",
              "      <th>created_at</th>\n",
              "    </tr>\n",
              "  </thead>\n",
              "  <tbody>\n",
              "    <tr>\n",
              "      <th>0</th>\n",
              "      <td>good morning makes my day to see a tesla first...</td>\n",
              "      <td>Terry Cormier</td>\n",
              "      <td>@DCStars</td>\n",
              "      <td>0</td>\n",
              "      <td>0</td>\n",
              "      <td>2022-06-21 02:33:16+00:00</td>\n",
              "    </tr>\n",
              "    <tr>\n",
              "      <th>1</th>\n",
              "      <td>tesla tsla technicalindicator market types mt ...</td>\n",
              "      <td>ioBots Alerts</td>\n",
              "      <td>@IOB_llc</td>\n",
              "      <td>0</td>\n",
              "      <td>0</td>\n",
              "      <td>2022-06-21 02:30:11+00:00</td>\n",
              "    </tr>\n",
              "    <tr>\n",
              "      <th>2</th>\n",
              "      <td>tsla winnings of initial btc investment🙌     r...</td>\n",
              "      <td>MBrae</td>\n",
              "      <td>@MBrae3</td>\n",
              "      <td>0</td>\n",
              "      <td>0</td>\n",
              "      <td>2022-06-21 02:30:05+00:00</td>\n",
              "    </tr>\n",
              "    <tr>\n",
              "      <th>3</th>\n",
              "      <td>this has happened never at each and every te...</td>\n",
              "      <td>Lawrence 4.68e+3 🔋</td>\n",
              "      <td>@Avatrode</td>\n",
              "      <td>1</td>\n",
              "      <td>0</td>\n",
              "      <td>2022-06-21 02:26:28+00:00</td>\n",
              "    </tr>\n",
              "    <tr>\n",
              "      <th>4</th>\n",
              "      <td>so lets talk charging for our great american ...</td>\n",
              "      <td>The Mortika Lacrosse (Kai)</td>\n",
              "      <td>@mortikalacrosse</td>\n",
              "      <td>0</td>\n",
              "      <td>2</td>\n",
              "      <td>2022-06-21 02:24:29+00:00</td>\n",
              "    </tr>\n",
              "    <tr>\n",
              "      <th>...</th>\n",
              "      <td>...</td>\n",
              "      <td>...</td>\n",
              "      <td>...</td>\n",
              "      <td>...</td>\n",
              "      <td>...</td>\n",
              "      <td>...</td>\n",
              "    </tr>\n",
              "    <tr>\n",
              "      <th>95</th>\n",
              "      <td>coolio jamesspanko just spotted a  tesla model...</td>\n",
              "      <td>TeslaRadar Bot</td>\n",
              "      <td>@TeslaradarB</td>\n",
              "      <td>1</td>\n",
              "      <td>0</td>\n",
              "      <td>2022-06-21 01:12:15+00:00</td>\n",
              "    </tr>\n",
              "    <tr>\n",
              "      <th>96</th>\n",
              "      <td>well done jamesspanko nailed it by spotting a ...</td>\n",
              "      <td>TeslaRadar Bot</td>\n",
              "      <td>@TeslaradarB</td>\n",
              "      <td>1</td>\n",
              "      <td>0</td>\n",
              "      <td>2022-06-21 01:12:14+00:00</td>\n",
              "    </tr>\n",
              "    <tr>\n",
              "      <th>97</th>\n",
              "      <td>fresh jamesspanko just spotted a  tesla model ...</td>\n",
              "      <td>TeslaRadar Bot</td>\n",
              "      <td>@TeslaradarB</td>\n",
              "      <td>1</td>\n",
              "      <td>0</td>\n",
              "      <td>2022-06-21 01:12:14+00:00</td>\n",
              "    </tr>\n",
              "    <tr>\n",
              "      <th>98</th>\n",
              "      <td>nice jamesspanko just spotted a  tesla model  ...</td>\n",
              "      <td>TeslaRadar Bot</td>\n",
              "      <td>@TeslaradarB</td>\n",
              "      <td>1</td>\n",
              "      <td>0</td>\n",
              "      <td>2022-06-21 01:12:14+00:00</td>\n",
              "    </tr>\n",
              "    <tr>\n",
              "      <th>99</th>\n",
              "      <td>very nice jamesspanko just spotted a  tesla mo...</td>\n",
              "      <td>TeslaRadar Bot</td>\n",
              "      <td>@TeslaradarB</td>\n",
              "      <td>0</td>\n",
              "      <td>0</td>\n",
              "      <td>2022-06-21 01:12:14+00:00</td>\n",
              "    </tr>\n",
              "  </tbody>\n",
              "</table>\n",
              "<p>100 rows × 6 columns</p>\n",
              "</div>"
            ],
            "text/plain": [
              "                                                tweet  \\\n",
              "0   good morning makes my day to see a tesla first...   \n",
              "1   tesla tsla technicalindicator market types mt ...   \n",
              "2   tsla winnings of initial btc investment🙌     r...   \n",
              "3     this has happened never at each and every te...   \n",
              "4    so lets talk charging for our great american ...   \n",
              "..                                                ...   \n",
              "95  coolio jamesspanko just spotted a  tesla model...   \n",
              "96  well done jamesspanko nailed it by spotting a ...   \n",
              "97  fresh jamesspanko just spotted a  tesla model ...   \n",
              "98  nice jamesspanko just spotted a  tesla model  ...   \n",
              "99  very nice jamesspanko just spotted a  tesla mo...   \n",
              "\n",
              "                   name_author          user_tag  favourite_count  \\\n",
              "0                Terry Cormier          @DCStars                0   \n",
              "1                ioBots Alerts          @IOB_llc                0   \n",
              "2                        MBrae           @MBrae3                0   \n",
              "3           Lawrence 4.68e+3 🔋         @Avatrode                1   \n",
              "4   The Mortika Lacrosse (Kai)  @mortikalacrosse                0   \n",
              "..                         ...               ...              ...   \n",
              "95              TeslaRadar Bot      @TeslaradarB                1   \n",
              "96              TeslaRadar Bot      @TeslaradarB                1   \n",
              "97              TeslaRadar Bot      @TeslaradarB                1   \n",
              "98              TeslaRadar Bot      @TeslaradarB                1   \n",
              "99              TeslaRadar Bot      @TeslaradarB                0   \n",
              "\n",
              "    retweet_count                 created_at  \n",
              "0               0  2022-06-21 02:33:16+00:00  \n",
              "1               0  2022-06-21 02:30:11+00:00  \n",
              "2               0  2022-06-21 02:30:05+00:00  \n",
              "3               0  2022-06-21 02:26:28+00:00  \n",
              "4               2  2022-06-21 02:24:29+00:00  \n",
              "..            ...                        ...  \n",
              "95              0  2022-06-21 01:12:15+00:00  \n",
              "96              0  2022-06-21 01:12:14+00:00  \n",
              "97              0  2022-06-21 01:12:14+00:00  \n",
              "98              0  2022-06-21 01:12:14+00:00  \n",
              "99              0  2022-06-21 01:12:14+00:00  \n",
              "\n",
              "[100 rows x 6 columns]"
            ]
          },
          "execution_count": 65,
          "metadata": {},
          "output_type": "execute_result"
        }
      ],
      "source": [
        "# Limpiar la columna deseada, en este caso la columna 'tweet' del csv que importamos al final del componente anterior\n",
        "data['tweet'] = data['tweet'].apply(cleanTxt)\n",
        "\n",
        "# Mostrar el DataFrame limpiado\n",
        "data"
      ]
    },
    {
      "cell_type": "markdown",
      "metadata": {
        "id": "5YD0OTHfOi6K"
      },
      "source": [
        "### Pasos 2-4: Tokenización, POS tagging, saqueo de los stopwords"
      ]
    },
    {
      "cell_type": "code",
      "execution_count": null,
      "metadata": {},
      "outputs": [],
      "source": [
        "#importación de librerias necesarias\n",
        "import nltk\n",
        "nltk.download('punkt')\n",
        "from nltk.tokenize import word_tokenize\n",
        "from nltk import pos_tag\n",
        "nltk.download('stopwords')\n",
        "from nltk.corpus import stopwords\n",
        "nltk.download('wordnet')\n",
        "from nltk.corpus import wordnet\n",
        "nltk.download('omw-1.4')\n",
        "nltk.download('averaged_perceptron_tagger')"
      ]
    },
    {
      "cell_type": "code",
      "execution_count": 14,
      "metadata": {},
      "outputs": [],
      "source": [
        "# Preparar el diccionario de POS tagger\n",
        "pos_dict = {'J':wordnet.ADJ, 'V':wordnet.VERB, 'N':wordnet.NOUN, 'R':wordnet.ADV}"
      ]
    },
    {
      "cell_type": "code",
      "execution_count": 15,
      "metadata": {
        "id": "4MpduDLhOi6N",
        "outputId": "5785032a-bd6e-43d4-8b52-24c43dddef8d"
      },
      "outputs": [],
      "source": [
        "#función de tokenizar las palabras y sacar los stopwords del lenguaje indicado\n",
        "def token_stop_pos(text):\n",
        "    tags = pos_tag(word_tokenize(text))\n",
        "    newlist = []\n",
        "    for word, tag in tags:\n",
        "        if word.lower() not in set(stopwords.words('english')):\n",
        "            newlist.append(tuple([word, pos_dict.get(tag[0])]))\n",
        "    return newlist"
      ]
    },
    {
      "cell_type": "code",
      "execution_count": 46,
      "metadata": {},
      "outputs": [
        {
          "data": {
            "text/html": [
              "<div>\n",
              "<style scoped>\n",
              "    .dataframe tbody tr th:only-of-type {\n",
              "        vertical-align: middle;\n",
              "    }\n",
              "\n",
              "    .dataframe tbody tr th {\n",
              "        vertical-align: top;\n",
              "    }\n",
              "\n",
              "    .dataframe thead th {\n",
              "        text-align: right;\n",
              "    }\n",
              "</style>\n",
              "<table border=\"1\" class=\"dataframe\">\n",
              "  <thead>\n",
              "    <tr style=\"text-align: right;\">\n",
              "      <th></th>\n",
              "      <th>tweet</th>\n",
              "      <th>name_author</th>\n",
              "      <th>user_tag</th>\n",
              "      <th>favourite_count</th>\n",
              "      <th>retweet_count</th>\n",
              "      <th>created_at</th>\n",
              "      <th>POS tagged</th>\n",
              "    </tr>\n",
              "  </thead>\n",
              "  <tbody>\n",
              "    <tr>\n",
              "      <th>0</th>\n",
              "      <td>good morning makes my day to see a tesla first...</td>\n",
              "      <td>Terry Cormier</td>\n",
              "      <td>@DCStars</td>\n",
              "      <td>0</td>\n",
              "      <td>0</td>\n",
              "      <td>2022-06-21 02:33:16+00:00</td>\n",
              "      <td>[(good, a), (morning, n), (makes, v), (day, n)...</td>\n",
              "    </tr>\n",
              "    <tr>\n",
              "      <th>1</th>\n",
              "      <td>tesla tsla technicalindicator market types mt ...</td>\n",
              "      <td>ioBots Alerts</td>\n",
              "      <td>@IOB_llc</td>\n",
              "      <td>0</td>\n",
              "      <td>0</td>\n",
              "      <td>2022-06-21 02:30:11+00:00</td>\n",
              "      <td>[(tesla, n), (tsla, n), (technicalindicator, v...</td>\n",
              "    </tr>\n",
              "    <tr>\n",
              "      <th>2</th>\n",
              "      <td>tsla winnings of initial btc investment🙌     r...</td>\n",
              "      <td>MBrae</td>\n",
              "      <td>@MBrae3</td>\n",
              "      <td>0</td>\n",
              "      <td>0</td>\n",
              "      <td>2022-06-21 02:30:05+00:00</td>\n",
              "      <td>[(tsla, a), (winnings, n), (initial, a), (btc,...</td>\n",
              "    </tr>\n",
              "    <tr>\n",
              "      <th>3</th>\n",
              "      <td>this has happened never at each and every te...</td>\n",
              "      <td>Lawrence 4.68e+3 🔋</td>\n",
              "      <td>@Avatrode</td>\n",
              "      <td>1</td>\n",
              "      <td>0</td>\n",
              "      <td>2022-06-21 02:26:28+00:00</td>\n",
              "      <td>[(happened, v), (never, r), (every, None), (te...</td>\n",
              "    </tr>\n",
              "    <tr>\n",
              "      <th>4</th>\n",
              "      <td>so lets talk charging for our great american ...</td>\n",
              "      <td>The Mortika Lacrosse (Kai)</td>\n",
              "      <td>@mortikalacrosse</td>\n",
              "      <td>0</td>\n",
              "      <td>2</td>\n",
              "      <td>2022-06-21 02:24:29+00:00</td>\n",
              "      <td>[(lets, a), (talk, n), (charging, v), (great, ...</td>\n",
              "    </tr>\n",
              "  </tbody>\n",
              "</table>\n",
              "</div>"
            ],
            "text/plain": [
              "                                               tweet  \\\n",
              "0  good morning makes my day to see a tesla first...   \n",
              "1  tesla tsla technicalindicator market types mt ...   \n",
              "2  tsla winnings of initial btc investment🙌     r...   \n",
              "3    this has happened never at each and every te...   \n",
              "4   so lets talk charging for our great american ...   \n",
              "\n",
              "                  name_author          user_tag  favourite_count  \\\n",
              "0               Terry Cormier          @DCStars                0   \n",
              "1               ioBots Alerts          @IOB_llc                0   \n",
              "2                       MBrae           @MBrae3                0   \n",
              "3          Lawrence 4.68e+3 🔋         @Avatrode                1   \n",
              "4  The Mortika Lacrosse (Kai)  @mortikalacrosse                0   \n",
              "\n",
              "   retweet_count                 created_at  \\\n",
              "0              0  2022-06-21 02:33:16+00:00   \n",
              "1              0  2022-06-21 02:30:11+00:00   \n",
              "2              0  2022-06-21 02:30:05+00:00   \n",
              "3              0  2022-06-21 02:26:28+00:00   \n",
              "4              2  2022-06-21 02:24:29+00:00   \n",
              "\n",
              "                                          POS tagged  \n",
              "0  [(good, a), (morning, n), (makes, v), (day, n)...  \n",
              "1  [(tesla, n), (tsla, n), (technicalindicator, v...  \n",
              "2  [(tsla, a), (winnings, n), (initial, a), (btc,...  \n",
              "3  [(happened, v), (never, r), (every, None), (te...  \n",
              "4  [(lets, a), (talk, n), (charging, v), (great, ...  "
            ]
          },
          "execution_count": 46,
          "metadata": {},
          "output_type": "execute_result"
        }
      ],
      "source": [
        "#aplicar la función recién creada a la columna de tweet, creando una nueva columna con los resultados\n",
        "data['POS tagged'] = data['tweet'].apply(token_stop_pos)\n",
        "data.head()"
      ]
    },
    {
      "cell_type": "markdown",
      "metadata": {
        "id": "PMnR4DdOOi6R"
      },
      "source": [
        "### Paso 5: Obtener las palabras stem\n",
        "\n",
        "#### Lemmatización"
      ]
    },
    {
      "cell_type": "code",
      "execution_count": 47,
      "metadata": {
        "id": "zQ4GM4qUOi6V",
        "outputId": "a15f4ef8-6b37-4219-b608-01f4b0338e90",
        "scrolled": true
      },
      "outputs": [],
      "source": [
        "from nltk.stem import WordNetLemmatizer\n",
        "wordnet_lemmatizer = WordNetLemmatizer()\n",
        "\n",
        "# definir la función de lemmatización\n",
        "def lemmatize(pos_data):\n",
        "    lemma_rew = \" \"\n",
        "    for word, pos in pos_data:\n",
        "        if not pos: \n",
        "            lemma = word\n",
        "            lemma_rew = lemma_rew + \" \" + lemma\n",
        "        else:  \n",
        "            lemma = wordnet_lemmatizer.lemmatize(word, pos=pos)\n",
        "            lemma_rew = lemma_rew + \" \" + lemma\n",
        "    return lemma_rew"
      ]
    },
    {
      "cell_type": "code",
      "execution_count": 48,
      "metadata": {},
      "outputs": [
        {
          "data": {
            "text/html": [
              "<div>\n",
              "<style scoped>\n",
              "    .dataframe tbody tr th:only-of-type {\n",
              "        vertical-align: middle;\n",
              "    }\n",
              "\n",
              "    .dataframe tbody tr th {\n",
              "        vertical-align: top;\n",
              "    }\n",
              "\n",
              "    .dataframe thead th {\n",
              "        text-align: right;\n",
              "    }\n",
              "</style>\n",
              "<table border=\"1\" class=\"dataframe\">\n",
              "  <thead>\n",
              "    <tr style=\"text-align: right;\">\n",
              "      <th></th>\n",
              "      <th>tweet</th>\n",
              "      <th>name_author</th>\n",
              "      <th>user_tag</th>\n",
              "      <th>favourite_count</th>\n",
              "      <th>retweet_count</th>\n",
              "      <th>created_at</th>\n",
              "      <th>POS tagged</th>\n",
              "      <th>Lemma</th>\n",
              "    </tr>\n",
              "  </thead>\n",
              "  <tbody>\n",
              "    <tr>\n",
              "      <th>0</th>\n",
              "      <td>good morning makes my day to see a tesla first...</td>\n",
              "      <td>Terry Cormier</td>\n",
              "      <td>@DCStars</td>\n",
              "      <td>0</td>\n",
              "      <td>0</td>\n",
              "      <td>2022-06-21 02:33:16+00:00</td>\n",
              "      <td>[(good, a), (morning, n), (makes, v), (day, n)...</td>\n",
              "      <td>good morning make day see tesla first thing ...</td>\n",
              "    </tr>\n",
              "    <tr>\n",
              "      <th>1</th>\n",
              "      <td>tesla tsla technicalindicator market types mt ...</td>\n",
              "      <td>ioBots Alerts</td>\n",
              "      <td>@IOB_llc</td>\n",
              "      <td>0</td>\n",
              "      <td>0</td>\n",
              "      <td>2022-06-21 02:30:11+00:00</td>\n",
              "      <td>[(tesla, n), (tsla, n), (technicalindicator, v...</td>\n",
              "      <td>tesla tsla technicalindicator market type mt...</td>\n",
              "    </tr>\n",
              "    <tr>\n",
              "      <th>2</th>\n",
              "      <td>tsla winnings of initial btc investment🙌     r...</td>\n",
              "      <td>MBrae</td>\n",
              "      <td>@MBrae3</td>\n",
              "      <td>0</td>\n",
              "      <td>0</td>\n",
              "      <td>2022-06-21 02:30:05+00:00</td>\n",
              "      <td>[(tsla, a), (winnings, n), (initial, a), (btc,...</td>\n",
              "      <td>tsla winning initial btc investment🙌 realize...</td>\n",
              "    </tr>\n",
              "    <tr>\n",
              "      <th>3</th>\n",
              "      <td>this has happened never at each and every te...</td>\n",
              "      <td>Lawrence 4.68e+3 🔋</td>\n",
              "      <td>@Avatrode</td>\n",
              "      <td>1</td>\n",
              "      <td>0</td>\n",
              "      <td>2022-06-21 02:26:28+00:00</td>\n",
              "      <td>[(happened, v), (never, r), (every, None), (te...</td>\n",
              "      <td>happen never every tesla supercharger road t...</td>\n",
              "    </tr>\n",
              "    <tr>\n",
              "      <th>4</th>\n",
              "      <td>so lets talk charging for our great american ...</td>\n",
              "      <td>The Mortika Lacrosse (Kai)</td>\n",
              "      <td>@mortikalacrosse</td>\n",
              "      <td>0</td>\n",
              "      <td>2</td>\n",
              "      <td>2022-06-21 02:24:29+00:00</td>\n",
              "      <td>[(lets, a), (talk, n), (charging, v), (great, ...</td>\n",
              "      <td>lets talk charge great american adventure 🇺🇸...</td>\n",
              "    </tr>\n",
              "  </tbody>\n",
              "</table>\n",
              "</div>"
            ],
            "text/plain": [
              "                                               tweet  \\\n",
              "0  good morning makes my day to see a tesla first...   \n",
              "1  tesla tsla technicalindicator market types mt ...   \n",
              "2  tsla winnings of initial btc investment🙌     r...   \n",
              "3    this has happened never at each and every te...   \n",
              "4   so lets talk charging for our great american ...   \n",
              "\n",
              "                  name_author          user_tag  favourite_count  \\\n",
              "0               Terry Cormier          @DCStars                0   \n",
              "1               ioBots Alerts          @IOB_llc                0   \n",
              "2                       MBrae           @MBrae3                0   \n",
              "3          Lawrence 4.68e+3 🔋         @Avatrode                1   \n",
              "4  The Mortika Lacrosse (Kai)  @mortikalacrosse                0   \n",
              "\n",
              "   retweet_count                 created_at  \\\n",
              "0              0  2022-06-21 02:33:16+00:00   \n",
              "1              0  2022-06-21 02:30:11+00:00   \n",
              "2              0  2022-06-21 02:30:05+00:00   \n",
              "3              0  2022-06-21 02:26:28+00:00   \n",
              "4              2  2022-06-21 02:24:29+00:00   \n",
              "\n",
              "                                          POS tagged  \\\n",
              "0  [(good, a), (morning, n), (makes, v), (day, n)...   \n",
              "1  [(tesla, n), (tsla, n), (technicalindicator, v...   \n",
              "2  [(tsla, a), (winnings, n), (initial, a), (btc,...   \n",
              "3  [(happened, v), (never, r), (every, None), (te...   \n",
              "4  [(lets, a), (talk, n), (charging, v), (great, ...   \n",
              "\n",
              "                                               Lemma  \n",
              "0    good morning make day see tesla first thing ...  \n",
              "1    tesla tsla technicalindicator market type mt...  \n",
              "2    tsla winning initial btc investment🙌 realize...  \n",
              "3    happen never every tesla supercharger road t...  \n",
              "4    lets talk charge great american adventure 🇺🇸...  "
            ]
          },
          "execution_count": 48,
          "metadata": {},
          "output_type": "execute_result"
        }
      ],
      "source": [
        "#aplicar la función de lemmatización\n",
        "data['Lemma'] = data['POS tagged'].apply(lemmatize)\n",
        "data.head()"
      ]
    },
    {
      "cell_type": "code",
      "execution_count": 49,
      "metadata": {
        "id": "BC6TJ5IhOi6X",
        "outputId": "b7d0b8a0-5c37-4f3c-bb55-7b16245264fb"
      },
      "outputs": [
        {
          "data": {
            "text/html": [
              "<div>\n",
              "<style scoped>\n",
              "    .dataframe tbody tr th:only-of-type {\n",
              "        vertical-align: middle;\n",
              "    }\n",
              "\n",
              "    .dataframe tbody tr th {\n",
              "        vertical-align: top;\n",
              "    }\n",
              "\n",
              "    .dataframe thead th {\n",
              "        text-align: right;\n",
              "    }\n",
              "</style>\n",
              "<table border=\"1\" class=\"dataframe\">\n",
              "  <thead>\n",
              "    <tr style=\"text-align: right;\">\n",
              "      <th></th>\n",
              "      <th>tweet</th>\n",
              "      <th>Lemma</th>\n",
              "    </tr>\n",
              "  </thead>\n",
              "  <tbody>\n",
              "    <tr>\n",
              "      <th>0</th>\n",
              "      <td>good morning makes my day to see a tesla first...</td>\n",
              "      <td>good morning make day see tesla first thing ...</td>\n",
              "    </tr>\n",
              "    <tr>\n",
              "      <th>1</th>\n",
              "      <td>tesla tsla technicalindicator market types mt ...</td>\n",
              "      <td>tesla tsla technicalindicator market type mt...</td>\n",
              "    </tr>\n",
              "    <tr>\n",
              "      <th>2</th>\n",
              "      <td>tsla winnings of initial btc investment🙌     r...</td>\n",
              "      <td>tsla winning initial btc investment🙌 realize...</td>\n",
              "    </tr>\n",
              "    <tr>\n",
              "      <th>3</th>\n",
              "      <td>this has happened never at each and every te...</td>\n",
              "      <td>happen never every tesla supercharger road t...</td>\n",
              "    </tr>\n",
              "    <tr>\n",
              "      <th>4</th>\n",
              "      <td>so lets talk charging for our great american ...</td>\n",
              "      <td>lets talk charge great american adventure 🇺🇸...</td>\n",
              "    </tr>\n",
              "    <tr>\n",
              "      <th>...</th>\n",
              "      <td>...</td>\n",
              "      <td>...</td>\n",
              "    </tr>\n",
              "    <tr>\n",
              "      <th>95</th>\n",
              "      <td>coolio jamesspanko just spotted a  tesla model...</td>\n",
              "      <td>coolio jamesspanko spot tesla model 🇺🇸 stand...</td>\n",
              "    </tr>\n",
              "    <tr>\n",
              "      <th>96</th>\n",
              "      <td>well done jamesspanko nailed it by spotting a ...</td>\n",
              "      <td>well do jamesspanko nail spot tesla model 🇺🇸...</td>\n",
              "    </tr>\n",
              "    <tr>\n",
              "      <th>97</th>\n",
              "      <td>fresh jamesspanko just spotted a  tesla model ...</td>\n",
              "      <td>fresh jamesspanko spot tesla model 🇺🇸 dual m...</td>\n",
              "    </tr>\n",
              "    <tr>\n",
              "      <th>98</th>\n",
              "      <td>nice jamesspanko just spotted a  tesla model  ...</td>\n",
              "      <td>nice jamesspanko spot tesla model 🇺🇸 standar...</td>\n",
              "    </tr>\n",
              "    <tr>\n",
              "      <th>99</th>\n",
              "      <td>very nice jamesspanko just spotted a  tesla mo...</td>\n",
              "      <td>nice jamesspanko spot tesla model 🇺🇸 dual mo...</td>\n",
              "    </tr>\n",
              "  </tbody>\n",
              "</table>\n",
              "<p>100 rows × 2 columns</p>\n",
              "</div>"
            ],
            "text/plain": [
              "                                                tweet  \\\n",
              "0   good morning makes my day to see a tesla first...   \n",
              "1   tesla tsla technicalindicator market types mt ...   \n",
              "2   tsla winnings of initial btc investment🙌     r...   \n",
              "3     this has happened never at each and every te...   \n",
              "4    so lets talk charging for our great american ...   \n",
              "..                                                ...   \n",
              "95  coolio jamesspanko just spotted a  tesla model...   \n",
              "96  well done jamesspanko nailed it by spotting a ...   \n",
              "97  fresh jamesspanko just spotted a  tesla model ...   \n",
              "98  nice jamesspanko just spotted a  tesla model  ...   \n",
              "99  very nice jamesspanko just spotted a  tesla mo...   \n",
              "\n",
              "                                                Lemma  \n",
              "0     good morning make day see tesla first thing ...  \n",
              "1     tesla tsla technicalindicator market type mt...  \n",
              "2     tsla winning initial btc investment🙌 realize...  \n",
              "3     happen never every tesla supercharger road t...  \n",
              "4     lets talk charge great american adventure 🇺🇸...  \n",
              "..                                                ...  \n",
              "95    coolio jamesspanko spot tesla model 🇺🇸 stand...  \n",
              "96    well do jamesspanko nail spot tesla model 🇺🇸...  \n",
              "97    fresh jamesspanko spot tesla model 🇺🇸 dual m...  \n",
              "98    nice jamesspanko spot tesla model 🇺🇸 standar...  \n",
              "99    nice jamesspanko spot tesla model 🇺🇸 dual mo...  \n",
              "\n",
              "[100 rows x 2 columns]"
            ]
          },
          "execution_count": 49,
          "metadata": {},
          "output_type": "execute_result"
        }
      ],
      "source": [
        "data[['tweet', 'Lemma']]"
      ]
    },
    {
      "cell_type": "markdown",
      "metadata": {
        "id": "bY1veSFTOi6n"
      },
      "source": [
        "### Sentiment analysis using VADER\n",
        "VADER (Valence Aware Dictionary and sEntiment Reasoner) es una herramienta de análisis de sentimientos basada en reglas y léxico que está específicamente en sintonía con los sentimientos expresados en las redes sociales.\n",
        "Se utiliza para el análisis de sentimientos de texto que tiene ambas polaridades, es decir, positivo/negativo. VADER se utiliza para cuantificar la cantidad de emoticons positiva o negativa que tiene el texto y también la intensidad de los emoticons.\n",
        "Y elegí este tipo de análisis ya que funciona bastante bien con las redes sociales ya que puede interpretar muy bien los textos conteniendo emoticons, slangs, conjunciones, palabras mayúsculas, puntuaciones y mucho mas."
      ]
    },
    {
      "cell_type": "code",
      "execution_count": 50,
      "metadata": {},
      "outputs": [],
      "source": [
        "#importar la librería\n",
        "from vaderSentiment.vaderSentiment import SentimentIntensityAnalyzer"
      ]
    },
    {
      "cell_type": "code",
      "execution_count": 51,
      "metadata": {
        "id": "dLnzpXnrOi6d"
      },
      "outputs": [],
      "source": [
        "#Definición de un dataframe en donde se va trabajar\n",
        "fin_data = pd.DataFrame(data[['tweet', 'Lemma']])"
      ]
    },
    {
      "cell_type": "code",
      "execution_count": 52,
      "metadata": {
        "id": "YPiWkzP4Oi66"
      },
      "outputs": [],
      "source": [
        "analyzer = SentimentIntensityAnalyzer()\n",
        "\n",
        "# función que calcula el sentimento VADER  \n",
        "def vadersentimentanalysis(review):\n",
        "    vs = analyzer.polarity_scores(review)\n",
        "    return vs['compound']"
      ]
    },
    {
      "cell_type": "code",
      "execution_count": 58,
      "metadata": {},
      "outputs": [
        {
          "data": {
            "text/html": [
              "<div>\n",
              "<style scoped>\n",
              "    .dataframe tbody tr th:only-of-type {\n",
              "        vertical-align: middle;\n",
              "    }\n",
              "\n",
              "    .dataframe tbody tr th {\n",
              "        vertical-align: top;\n",
              "    }\n",
              "\n",
              "    .dataframe thead th {\n",
              "        text-align: right;\n",
              "    }\n",
              "</style>\n",
              "<table border=\"1\" class=\"dataframe\">\n",
              "  <thead>\n",
              "    <tr style=\"text-align: right;\">\n",
              "      <th></th>\n",
              "      <th>tweet</th>\n",
              "      <th>Lemma</th>\n",
              "      <th>Vader Sentiment</th>\n",
              "    </tr>\n",
              "  </thead>\n",
              "  <tbody>\n",
              "    <tr>\n",
              "      <th>0</th>\n",
              "      <td>good morning makes my day to see a tesla first...</td>\n",
              "      <td>good morning make day see tesla first thing ...</td>\n",
              "      <td>0.4404</td>\n",
              "    </tr>\n",
              "    <tr>\n",
              "      <th>1</th>\n",
              "      <td>tesla tsla technicalindicator market types mt ...</td>\n",
              "      <td>tesla tsla technicalindicator market type mt...</td>\n",
              "      <td>-0.5413</td>\n",
              "    </tr>\n",
              "    <tr>\n",
              "      <th>2</th>\n",
              "      <td>tsla winnings of initial btc investment🙌     r...</td>\n",
              "      <td>tsla winning initial btc investment🙌 realize...</td>\n",
              "      <td>0.5267</td>\n",
              "    </tr>\n",
              "    <tr>\n",
              "      <th>3</th>\n",
              "      <td>this has happened never at each and every te...</td>\n",
              "      <td>happen never every tesla supercharger road t...</td>\n",
              "      <td>0.0408</td>\n",
              "    </tr>\n",
              "    <tr>\n",
              "      <th>4</th>\n",
              "      <td>so lets talk charging for our great american ...</td>\n",
              "      <td>lets talk charge great american adventure 🇺🇸...</td>\n",
              "      <td>0.7506</td>\n",
              "    </tr>\n",
              "  </tbody>\n",
              "</table>\n",
              "</div>"
            ],
            "text/plain": [
              "                                               tweet  \\\n",
              "0  good morning makes my day to see a tesla first...   \n",
              "1  tesla tsla technicalindicator market types mt ...   \n",
              "2  tsla winnings of initial btc investment🙌     r...   \n",
              "3    this has happened never at each and every te...   \n",
              "4   so lets talk charging for our great american ...   \n",
              "\n",
              "                                               Lemma  Vader Sentiment  \n",
              "0    good morning make day see tesla first thing ...           0.4404  \n",
              "1    tesla tsla technicalindicator market type mt...          -0.5413  \n",
              "2    tsla winning initial btc investment🙌 realize...           0.5267  \n",
              "3    happen never every tesla supercharger road t...           0.0408  \n",
              "4    lets talk charge great american adventure 🇺🇸...           0.7506  "
            ]
          },
          "execution_count": 58,
          "metadata": {},
          "output_type": "execute_result"
        }
      ],
      "source": [
        "#aplicar la función de análisis VADER a lemma\n",
        "fin_data['Vader Sentiment'] = fin_data['Lemma'].apply(vadersentimentanalysis)\n",
        "fin_data.head()"
      ]
    },
    {
      "cell_type": "code",
      "execution_count": 59,
      "metadata": {
        "id": "xyqzlhJEOi68",
        "outputId": "3dd8686e-0fe9-4dc1-ab07-f9741a268945"
      },
      "outputs": [],
      "source": [
        "# función de categorizar los resultados \n",
        "def vader_analysis(compound):\n",
        "    if compound >= 0.5:\n",
        "        return 'Positive'\n",
        "    elif compound <= -0.5 :\n",
        "        return 'Negative'\n",
        "    else:\n",
        "        return 'Neutral'"
      ]
    },
    {
      "cell_type": "code",
      "execution_count": 60,
      "metadata": {},
      "outputs": [
        {
          "data": {
            "text/html": [
              "<div>\n",
              "<style scoped>\n",
              "    .dataframe tbody tr th:only-of-type {\n",
              "        vertical-align: middle;\n",
              "    }\n",
              "\n",
              "    .dataframe tbody tr th {\n",
              "        vertical-align: top;\n",
              "    }\n",
              "\n",
              "    .dataframe thead th {\n",
              "        text-align: right;\n",
              "    }\n",
              "</style>\n",
              "<table border=\"1\" class=\"dataframe\">\n",
              "  <thead>\n",
              "    <tr style=\"text-align: right;\">\n",
              "      <th></th>\n",
              "      <th>tweet</th>\n",
              "      <th>Lemma</th>\n",
              "      <th>Vader Sentiment</th>\n",
              "      <th>Vader Analysis</th>\n",
              "    </tr>\n",
              "  </thead>\n",
              "  <tbody>\n",
              "    <tr>\n",
              "      <th>0</th>\n",
              "      <td>good morning makes my day to see a tesla first...</td>\n",
              "      <td>good morning make day see tesla first thing ...</td>\n",
              "      <td>0.4404</td>\n",
              "      <td>Neutral</td>\n",
              "    </tr>\n",
              "    <tr>\n",
              "      <th>1</th>\n",
              "      <td>tesla tsla technicalindicator market types mt ...</td>\n",
              "      <td>tesla tsla technicalindicator market type mt...</td>\n",
              "      <td>-0.5413</td>\n",
              "      <td>Negative</td>\n",
              "    </tr>\n",
              "    <tr>\n",
              "      <th>2</th>\n",
              "      <td>tsla winnings of initial btc investment🙌     r...</td>\n",
              "      <td>tsla winning initial btc investment🙌 realize...</td>\n",
              "      <td>0.5267</td>\n",
              "      <td>Positive</td>\n",
              "    </tr>\n",
              "    <tr>\n",
              "      <th>3</th>\n",
              "      <td>this has happened never at each and every te...</td>\n",
              "      <td>happen never every tesla supercharger road t...</td>\n",
              "      <td>0.0408</td>\n",
              "      <td>Neutral</td>\n",
              "    </tr>\n",
              "    <tr>\n",
              "      <th>4</th>\n",
              "      <td>so lets talk charging for our great american ...</td>\n",
              "      <td>lets talk charge great american adventure 🇺🇸...</td>\n",
              "      <td>0.7506</td>\n",
              "      <td>Positive</td>\n",
              "    </tr>\n",
              "  </tbody>\n",
              "</table>\n",
              "</div>"
            ],
            "text/plain": [
              "                                               tweet  \\\n",
              "0  good morning makes my day to see a tesla first...   \n",
              "1  tesla tsla technicalindicator market types mt ...   \n",
              "2  tsla winnings of initial btc investment🙌     r...   \n",
              "3    this has happened never at each and every te...   \n",
              "4   so lets talk charging for our great american ...   \n",
              "\n",
              "                                               Lemma  Vader Sentiment  \\\n",
              "0    good morning make day see tesla first thing ...           0.4404   \n",
              "1    tesla tsla technicalindicator market type mt...          -0.5413   \n",
              "2    tsla winning initial btc investment🙌 realize...           0.5267   \n",
              "3    happen never every tesla supercharger road t...           0.0408   \n",
              "4    lets talk charge great american adventure 🇺🇸...           0.7506   \n",
              "\n",
              "  Vader Analysis  \n",
              "0        Neutral  \n",
              "1       Negative  \n",
              "2       Positive  \n",
              "3        Neutral  \n",
              "4       Positive  "
            ]
          },
          "execution_count": 60,
          "metadata": {},
          "output_type": "execute_result"
        }
      ],
      "source": [
        "#aplicar la función de categorización\n",
        "fin_data['Vader Analysis'] = fin_data['Vader Sentiment'].apply(vader_analysis)\n",
        "fin_data.head()"
      ]
    },
    {
      "cell_type": "code",
      "execution_count": 61,
      "metadata": {
        "id": "cWRKikT3Oi6-",
        "outputId": "a32dcf5a-547c-408c-a7eb-596b04d7ef6c"
      },
      "outputs": [
        {
          "data": {
            "text/plain": [
              "Neutral     61\n",
              "Positive    30\n",
              "Negative     9\n",
              "Name: Vader Analysis, dtype: int64"
            ]
          },
          "execution_count": 61,
          "metadata": {},
          "output_type": "execute_result"
        }
      ],
      "source": [
        "#Contar la cantidad de cada categoría\n",
        "vader_counts = fin_data['Vader Analysis'].value_counts()\n",
        "vader_counts"
      ]
    },
    {
      "cell_type": "code",
      "execution_count": 62,
      "metadata": {
        "id": "0BnbqF-bOi6_",
        "outputId": "6513caa0-18ec-4b63-8979-5962c23454be"
      },
      "outputs": [
        {
          "data": {
            "text/plain": [
              "<matplotlib.legend.Legend at 0x1ecb6fc8970>"
            ]
          },
          "execution_count": 62,
          "metadata": {},
          "output_type": "execute_result"
        },
        {
          "data": {
            "image/png": "[encoded data removed]",
            "text/plain": [
              "<Figure size 720x504 with 1 Axes>"
            ]
          },
          "metadata": {},
          "output_type": "display_data"
        }
      ],
      "source": [
        "#Demostrar gráficamente los resultados\n",
        "vader_counts= fin_data['Vader Analysis'].value_counts()\n",
        "plt.figure(figsize=(10, 7))\n",
        "plt.pie(vader_counts.values, labels = vader_counts.index, autopct='%1.1f%%', shadow=False)\n",
        "plt.legend()"
      ]
    },
    {
      "cell_type": "code",
      "execution_count": 66,
      "metadata": {},
      "outputs": [],
      "source": [
        "#Exportación de datos\n",
        "fin_data.to_csv('tweets_analizados.csv')"
      ]
    },
    {
      "cell_type": "markdown",
      "metadata": {},
      "source": [
        "### Resultados\n",
        "\n",
        "En el análisis VADER vemos que los resultados de este Dataset específico es mayormente neutral (60%), pero también bastante positvo (30%) y un 9% negetivo en el momento de realizar esta extracción."
      ]
    }
  ],
  "metadata": {
    "colab": {
      "name": "13_1_Lexicon_based_sentiment_analysis.ipynb",
      "provenance": []
    },
    "interpreter": {
      "hash": "ef3517bc16de0e609e36a11b23cfa3941833f00ca346ba9c60ac4fe305e91c68"
    },
    "kernelspec": {
      "display_name": "Python 3.10.2 64-bit",
      "language": "python",
      "name": "python3"
    },
    "language_info": {
      "codemirror_mode": {
        "name": "ipython",
        "version": 3
      },
      "file_extension": ".py",
      "mimetype": "text/x-python",
      "name": "python",
      "nbconvert_exporter": "python",
      "pygments_lexer": "ipython3",
      "version": "3.10.2"
    }
  },
  "nbformat": 4,
  "nbformat_minor": 0
}
